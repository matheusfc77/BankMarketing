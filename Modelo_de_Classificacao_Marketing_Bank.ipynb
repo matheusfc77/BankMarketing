{
  "nbformat": 4,
  "nbformat_minor": 0,
  "metadata": {
    "colab": {
      "name": "Modelo de Classificacao Marketing Bank.ipynb",
      "provenance": [],
      "collapsed_sections": []
    },
    "kernelspec": {
      "name": "python3",
      "display_name": "Python 3"
    }
  },
  "cells": [
    {
      "cell_type": "markdown",
      "metadata": {
        "id": "e98mQ_0OrETZ"
      },
      "source": [
        "# Modelo de classificação - Campanha de marketing de uma instituição bancária\n",
        "\n",
        "Os dados referem-se a campanhas de marketing de uma instuição bancária portuguesa realizadas entre 2008 e 2010. O objetivo é prever se o cliente fará um depósito a prazo.\n",
        "\n",
        "Visando facilitar a análise dos dados, desenvolvi um dashboard que pode ser acessado em [Dashboard de Marketing](https://app.powerbi.com/view?r=eyJrIjoiYjJlMjQxYWQtMTZlYy00ZDYzLWFhYWMtOTM4ZTQ4YTg1NTFlIiwidCI6ImUxYWFhM2NmLTI5MjItNDEyYy04MDE1LWRlZTEyZDg1MTJmYSJ9&pageName=ReportSectionac001f34a9fc80bde708).\n",
        "\n",
        "O conjunto de dados pode ser obtido em: <https://archive.ics.uci.edu/ml/datasets/Bank+Marketing>.\n",
        "\n",
        "**Fonte**\n",
        "\n",
        "[Moro et al., 2014] S. Moro, P. Cortez and P. Rita. A Data-Driven Approach to Predict the Success of Bank Telemarketing. Decision Support Systems, Elsevier, 62:22-31, June 2014"
      ]
    },
    {
      "cell_type": "markdown",
      "metadata": {
        "id": "ljkeh0M2lce9"
      },
      "source": [
        "## Resumo\n",
        "* Importação das principais bibliotecas e carregamento dos dados\n",
        "* Análise Inicial\n",
        "* Relação entre as variáveis independentes numéricas\n",
        "* Tratamento dos dados\n",
        " * Detecção de Outliers\n",
        " * Normalização e Balanceamento\n",
        "* Modelo de Classificação - Random Forest\n",
        "* Validação do Modelo\n",
        "* Predição de um novo registro\n",
        "* Criação do conjunto de dados de predição (utilizado no Power BI)"
      ]
    },
    {
      "cell_type": "markdown",
      "metadata": {
        "id": "_ahIpODDrOKW"
      },
      "source": [
        "## Importação das principais bibliotecas e carregamento dos dados"
      ]
    },
    {
      "cell_type": "code",
      "metadata": {
        "id": "PXlUzjE0_okU"
      },
      "source": [
        "import pandas as pd\n",
        "import numpy as np\n",
        "import matplotlib.pyplot as plt\n",
        "import seaborn as sns\n",
        "plt.style.use('seaborn')\n",
        "sns.set_theme(style = 'darkgrid')\n",
        "from collections import Counter"
      ],
      "execution_count": null,
      "outputs": []
    },
    {
      "cell_type": "code",
      "metadata": {
        "id": "a7453eZt_-M1"
      },
      "source": [
        "dataset = pd.read_csv('bank-additional-full.csv', delimiter=';')"
      ],
      "execution_count": null,
      "outputs": []
    },
    {
      "cell_type": "markdown",
      "metadata": {
        "id": "od2pYM91rY2N"
      },
      "source": [
        "## Análise Inicial"
      ]
    },
    {
      "cell_type": "code",
      "metadata": {
        "colab": {
          "base_uri": "https://localhost:8080/",
          "height": 224
        },
        "id": "WbZuGtJAAQ1w",
        "outputId": "134f775d-922e-445b-aa17-da56bfbc63ba"
      },
      "source": [
        "dataset.head()"
      ],
      "execution_count": null,
      "outputs": [
        {
          "output_type": "execute_result",
          "data": {
            "text/html": [
              "<div>\n",
              "<style scoped>\n",
              "    .dataframe tbody tr th:only-of-type {\n",
              "        vertical-align: middle;\n",
              "    }\n",
              "\n",
              "    .dataframe tbody tr th {\n",
              "        vertical-align: top;\n",
              "    }\n",
              "\n",
              "    .dataframe thead th {\n",
              "        text-align: right;\n",
              "    }\n",
              "</style>\n",
              "<table border=\"1\" class=\"dataframe\">\n",
              "  <thead>\n",
              "    <tr style=\"text-align: right;\">\n",
              "      <th></th>\n",
              "      <th>age</th>\n",
              "      <th>job</th>\n",
              "      <th>marital</th>\n",
              "      <th>education</th>\n",
              "      <th>default</th>\n",
              "      <th>housing</th>\n",
              "      <th>loan</th>\n",
              "      <th>contact</th>\n",
              "      <th>month</th>\n",
              "      <th>day_of_week</th>\n",
              "      <th>duration</th>\n",
              "      <th>campaign</th>\n",
              "      <th>pdays</th>\n",
              "      <th>previous</th>\n",
              "      <th>poutcome</th>\n",
              "      <th>emp.var.rate</th>\n",
              "      <th>cons.price.idx</th>\n",
              "      <th>cons.conf.idx</th>\n",
              "      <th>euribor3m</th>\n",
              "      <th>nr.employed</th>\n",
              "      <th>y</th>\n",
              "    </tr>\n",
              "  </thead>\n",
              "  <tbody>\n",
              "    <tr>\n",
              "      <th>0</th>\n",
              "      <td>56</td>\n",
              "      <td>housemaid</td>\n",
              "      <td>married</td>\n",
              "      <td>basic.4y</td>\n",
              "      <td>no</td>\n",
              "      <td>no</td>\n",
              "      <td>no</td>\n",
              "      <td>telephone</td>\n",
              "      <td>may</td>\n",
              "      <td>mon</td>\n",
              "      <td>261</td>\n",
              "      <td>1</td>\n",
              "      <td>999</td>\n",
              "      <td>0</td>\n",
              "      <td>nonexistent</td>\n",
              "      <td>1.1</td>\n",
              "      <td>93.994</td>\n",
              "      <td>-36.4</td>\n",
              "      <td>4.857</td>\n",
              "      <td>5191.0</td>\n",
              "      <td>no</td>\n",
              "    </tr>\n",
              "    <tr>\n",
              "      <th>1</th>\n",
              "      <td>57</td>\n",
              "      <td>services</td>\n",
              "      <td>married</td>\n",
              "      <td>high.school</td>\n",
              "      <td>unknown</td>\n",
              "      <td>no</td>\n",
              "      <td>no</td>\n",
              "      <td>telephone</td>\n",
              "      <td>may</td>\n",
              "      <td>mon</td>\n",
              "      <td>149</td>\n",
              "      <td>1</td>\n",
              "      <td>999</td>\n",
              "      <td>0</td>\n",
              "      <td>nonexistent</td>\n",
              "      <td>1.1</td>\n",
              "      <td>93.994</td>\n",
              "      <td>-36.4</td>\n",
              "      <td>4.857</td>\n",
              "      <td>5191.0</td>\n",
              "      <td>no</td>\n",
              "    </tr>\n",
              "    <tr>\n",
              "      <th>2</th>\n",
              "      <td>37</td>\n",
              "      <td>services</td>\n",
              "      <td>married</td>\n",
              "      <td>high.school</td>\n",
              "      <td>no</td>\n",
              "      <td>yes</td>\n",
              "      <td>no</td>\n",
              "      <td>telephone</td>\n",
              "      <td>may</td>\n",
              "      <td>mon</td>\n",
              "      <td>226</td>\n",
              "      <td>1</td>\n",
              "      <td>999</td>\n",
              "      <td>0</td>\n",
              "      <td>nonexistent</td>\n",
              "      <td>1.1</td>\n",
              "      <td>93.994</td>\n",
              "      <td>-36.4</td>\n",
              "      <td>4.857</td>\n",
              "      <td>5191.0</td>\n",
              "      <td>no</td>\n",
              "    </tr>\n",
              "    <tr>\n",
              "      <th>3</th>\n",
              "      <td>40</td>\n",
              "      <td>admin.</td>\n",
              "      <td>married</td>\n",
              "      <td>basic.6y</td>\n",
              "      <td>no</td>\n",
              "      <td>no</td>\n",
              "      <td>no</td>\n",
              "      <td>telephone</td>\n",
              "      <td>may</td>\n",
              "      <td>mon</td>\n",
              "      <td>151</td>\n",
              "      <td>1</td>\n",
              "      <td>999</td>\n",
              "      <td>0</td>\n",
              "      <td>nonexistent</td>\n",
              "      <td>1.1</td>\n",
              "      <td>93.994</td>\n",
              "      <td>-36.4</td>\n",
              "      <td>4.857</td>\n",
              "      <td>5191.0</td>\n",
              "      <td>no</td>\n",
              "    </tr>\n",
              "    <tr>\n",
              "      <th>4</th>\n",
              "      <td>56</td>\n",
              "      <td>services</td>\n",
              "      <td>married</td>\n",
              "      <td>high.school</td>\n",
              "      <td>no</td>\n",
              "      <td>no</td>\n",
              "      <td>yes</td>\n",
              "      <td>telephone</td>\n",
              "      <td>may</td>\n",
              "      <td>mon</td>\n",
              "      <td>307</td>\n",
              "      <td>1</td>\n",
              "      <td>999</td>\n",
              "      <td>0</td>\n",
              "      <td>nonexistent</td>\n",
              "      <td>1.1</td>\n",
              "      <td>93.994</td>\n",
              "      <td>-36.4</td>\n",
              "      <td>4.857</td>\n",
              "      <td>5191.0</td>\n",
              "      <td>no</td>\n",
              "    </tr>\n",
              "  </tbody>\n",
              "</table>\n",
              "</div>"
            ],
            "text/plain": [
              "   age        job  marital  ... euribor3m nr.employed   y\n",
              "0   56  housemaid  married  ...     4.857      5191.0  no\n",
              "1   57   services  married  ...     4.857      5191.0  no\n",
              "2   37   services  married  ...     4.857      5191.0  no\n",
              "3   40     admin.  married  ...     4.857      5191.0  no\n",
              "4   56   services  married  ...     4.857      5191.0  no\n",
              "\n",
              "[5 rows x 21 columns]"
            ]
          },
          "metadata": {
            "tags": []
          },
          "execution_count": 4
        }
      ]
    },
    {
      "cell_type": "code",
      "metadata": {
        "colab": {
          "base_uri": "https://localhost:8080/"
        },
        "id": "iqOIdi89B74h",
        "outputId": "2d6621f6-15c2-4db3-a7f4-6c51658d3694"
      },
      "source": [
        "dataset.info()"
      ],
      "execution_count": null,
      "outputs": [
        {
          "output_type": "stream",
          "text": [
            "<class 'pandas.core.frame.DataFrame'>\n",
            "RangeIndex: 41188 entries, 0 to 41187\n",
            "Data columns (total 21 columns):\n",
            " #   Column          Non-Null Count  Dtype  \n",
            "---  ------          --------------  -----  \n",
            " 0   age             41188 non-null  int64  \n",
            " 1   job             41188 non-null  object \n",
            " 2   marital         41188 non-null  object \n",
            " 3   education       41188 non-null  object \n",
            " 4   default         41188 non-null  object \n",
            " 5   housing         41188 non-null  object \n",
            " 6   loan            41188 non-null  object \n",
            " 7   contact         41188 non-null  object \n",
            " 8   month           41188 non-null  object \n",
            " 9   day_of_week     41188 non-null  object \n",
            " 10  duration        41188 non-null  int64  \n",
            " 11  campaign        41188 non-null  int64  \n",
            " 12  pdays           41188 non-null  int64  \n",
            " 13  previous        41188 non-null  int64  \n",
            " 14  poutcome        41188 non-null  object \n",
            " 15  emp.var.rate    41188 non-null  float64\n",
            " 16  cons.price.idx  41188 non-null  float64\n",
            " 17  cons.conf.idx   41188 non-null  float64\n",
            " 18  euribor3m       41188 non-null  float64\n",
            " 19  nr.employed     41188 non-null  float64\n",
            " 20  y               41188 non-null  object \n",
            "dtypes: float64(5), int64(5), object(11)\n",
            "memory usage: 6.6+ MB\n"
          ],
          "name": "stdout"
        }
      ]
    },
    {
      "cell_type": "code",
      "metadata": {
        "colab": {
          "base_uri": "https://localhost:8080/"
        },
        "id": "tEegUFeVAYhP",
        "outputId": "f3d7135f-bfe7-430d-cae0-8efa5abcb3fe"
      },
      "source": [
        "dataset.isnull().sum()"
      ],
      "execution_count": null,
      "outputs": [
        {
          "output_type": "execute_result",
          "data": {
            "text/plain": [
              "age               0\n",
              "job               0\n",
              "marital           0\n",
              "education         0\n",
              "default           0\n",
              "housing           0\n",
              "loan              0\n",
              "contact           0\n",
              "month             0\n",
              "day_of_week       0\n",
              "duration          0\n",
              "campaign          0\n",
              "pdays             0\n",
              "previous          0\n",
              "poutcome          0\n",
              "emp.var.rate      0\n",
              "cons.price.idx    0\n",
              "cons.conf.idx     0\n",
              "euribor3m         0\n",
              "nr.employed       0\n",
              "y                 0\n",
              "dtype: int64"
            ]
          },
          "metadata": {
            "tags": []
          },
          "execution_count": 6
        }
      ]
    },
    {
      "cell_type": "markdown",
      "metadata": {
        "id": "v1HAXmumrfc0"
      },
      "source": [
        "Não há valores nulos"
      ]
    },
    {
      "cell_type": "code",
      "metadata": {
        "colab": {
          "base_uri": "https://localhost:8080/",
          "height": 297
        },
        "id": "K51p28aunoqM",
        "outputId": "36db4002-7097-4e8e-bf86-51b61647552f"
      },
      "source": [
        "dataset.describe()"
      ],
      "execution_count": null,
      "outputs": [
        {
          "output_type": "execute_result",
          "data": {
            "text/html": [
              "<div>\n",
              "<style scoped>\n",
              "    .dataframe tbody tr th:only-of-type {\n",
              "        vertical-align: middle;\n",
              "    }\n",
              "\n",
              "    .dataframe tbody tr th {\n",
              "        vertical-align: top;\n",
              "    }\n",
              "\n",
              "    .dataframe thead th {\n",
              "        text-align: right;\n",
              "    }\n",
              "</style>\n",
              "<table border=\"1\" class=\"dataframe\">\n",
              "  <thead>\n",
              "    <tr style=\"text-align: right;\">\n",
              "      <th></th>\n",
              "      <th>age</th>\n",
              "      <th>duration</th>\n",
              "      <th>campaign</th>\n",
              "      <th>pdays</th>\n",
              "      <th>previous</th>\n",
              "      <th>emp.var.rate</th>\n",
              "      <th>cons.price.idx</th>\n",
              "      <th>cons.conf.idx</th>\n",
              "      <th>euribor3m</th>\n",
              "      <th>nr.employed</th>\n",
              "    </tr>\n",
              "  </thead>\n",
              "  <tbody>\n",
              "    <tr>\n",
              "      <th>count</th>\n",
              "      <td>41188.00000</td>\n",
              "      <td>41188.000000</td>\n",
              "      <td>41188.000000</td>\n",
              "      <td>41188.000000</td>\n",
              "      <td>41188.000000</td>\n",
              "      <td>41188.000000</td>\n",
              "      <td>41188.000000</td>\n",
              "      <td>41188.000000</td>\n",
              "      <td>41188.000000</td>\n",
              "      <td>41188.000000</td>\n",
              "    </tr>\n",
              "    <tr>\n",
              "      <th>mean</th>\n",
              "      <td>40.02406</td>\n",
              "      <td>258.285010</td>\n",
              "      <td>2.567593</td>\n",
              "      <td>962.475454</td>\n",
              "      <td>0.172963</td>\n",
              "      <td>0.081886</td>\n",
              "      <td>93.575664</td>\n",
              "      <td>-40.502600</td>\n",
              "      <td>3.621291</td>\n",
              "      <td>5167.035911</td>\n",
              "    </tr>\n",
              "    <tr>\n",
              "      <th>std</th>\n",
              "      <td>10.42125</td>\n",
              "      <td>259.279249</td>\n",
              "      <td>2.770014</td>\n",
              "      <td>186.910907</td>\n",
              "      <td>0.494901</td>\n",
              "      <td>1.570960</td>\n",
              "      <td>0.578840</td>\n",
              "      <td>4.628198</td>\n",
              "      <td>1.734447</td>\n",
              "      <td>72.251528</td>\n",
              "    </tr>\n",
              "    <tr>\n",
              "      <th>min</th>\n",
              "      <td>17.00000</td>\n",
              "      <td>0.000000</td>\n",
              "      <td>1.000000</td>\n",
              "      <td>0.000000</td>\n",
              "      <td>0.000000</td>\n",
              "      <td>-3.400000</td>\n",
              "      <td>92.201000</td>\n",
              "      <td>-50.800000</td>\n",
              "      <td>0.634000</td>\n",
              "      <td>4963.600000</td>\n",
              "    </tr>\n",
              "    <tr>\n",
              "      <th>25%</th>\n",
              "      <td>32.00000</td>\n",
              "      <td>102.000000</td>\n",
              "      <td>1.000000</td>\n",
              "      <td>999.000000</td>\n",
              "      <td>0.000000</td>\n",
              "      <td>-1.800000</td>\n",
              "      <td>93.075000</td>\n",
              "      <td>-42.700000</td>\n",
              "      <td>1.344000</td>\n",
              "      <td>5099.100000</td>\n",
              "    </tr>\n",
              "    <tr>\n",
              "      <th>50%</th>\n",
              "      <td>38.00000</td>\n",
              "      <td>180.000000</td>\n",
              "      <td>2.000000</td>\n",
              "      <td>999.000000</td>\n",
              "      <td>0.000000</td>\n",
              "      <td>1.100000</td>\n",
              "      <td>93.749000</td>\n",
              "      <td>-41.800000</td>\n",
              "      <td>4.857000</td>\n",
              "      <td>5191.000000</td>\n",
              "    </tr>\n",
              "    <tr>\n",
              "      <th>75%</th>\n",
              "      <td>47.00000</td>\n",
              "      <td>319.000000</td>\n",
              "      <td>3.000000</td>\n",
              "      <td>999.000000</td>\n",
              "      <td>0.000000</td>\n",
              "      <td>1.400000</td>\n",
              "      <td>93.994000</td>\n",
              "      <td>-36.400000</td>\n",
              "      <td>4.961000</td>\n",
              "      <td>5228.100000</td>\n",
              "    </tr>\n",
              "    <tr>\n",
              "      <th>max</th>\n",
              "      <td>98.00000</td>\n",
              "      <td>4918.000000</td>\n",
              "      <td>56.000000</td>\n",
              "      <td>999.000000</td>\n",
              "      <td>7.000000</td>\n",
              "      <td>1.400000</td>\n",
              "      <td>94.767000</td>\n",
              "      <td>-26.900000</td>\n",
              "      <td>5.045000</td>\n",
              "      <td>5228.100000</td>\n",
              "    </tr>\n",
              "  </tbody>\n",
              "</table>\n",
              "</div>"
            ],
            "text/plain": [
              "               age      duration  ...     euribor3m   nr.employed\n",
              "count  41188.00000  41188.000000  ...  41188.000000  41188.000000\n",
              "mean      40.02406    258.285010  ...      3.621291   5167.035911\n",
              "std       10.42125    259.279249  ...      1.734447     72.251528\n",
              "min       17.00000      0.000000  ...      0.634000   4963.600000\n",
              "25%       32.00000    102.000000  ...      1.344000   5099.100000\n",
              "50%       38.00000    180.000000  ...      4.857000   5191.000000\n",
              "75%       47.00000    319.000000  ...      4.961000   5228.100000\n",
              "max       98.00000   4918.000000  ...      5.045000   5228.100000\n",
              "\n",
              "[8 rows x 10 columns]"
            ]
          },
          "metadata": {
            "tags": []
          },
          "execution_count": 7
        }
      ]
    },
    {
      "cell_type": "markdown",
      "metadata": {
        "id": "AxsOOeSTrlht"
      },
      "source": [
        "Atenção aos valores das colunas 'duration' e 'campaign': ambas possuem o 3º quartil e valor máximo muito distantes."
      ]
    },
    {
      "cell_type": "code",
      "metadata": {
        "colab": {
          "base_uri": "https://localhost:8080/"
        },
        "id": "p7Gq99cOQ4jU",
        "outputId": "0277678b-5bca-4e5c-f1f3-6fe0ad78d7c1"
      },
      "source": [
        "dataset['y'].value_counts()"
      ],
      "execution_count": null,
      "outputs": [
        {
          "output_type": "execute_result",
          "data": {
            "text/plain": [
              "no     36548\n",
              "yes     4640\n",
              "Name: y, dtype: int64"
            ]
          },
          "metadata": {
            "tags": []
          },
          "execution_count": 8
        }
      ]
    },
    {
      "cell_type": "markdown",
      "metadata": {
        "id": "kAzROnn7r_DN"
      },
      "source": [
        "Variável dependente desbalanceada. Necessário tratamento para correção."
      ]
    },
    {
      "cell_type": "markdown",
      "metadata": {
        "id": "uNhYUjjssoVX"
      },
      "source": [
        "## Relação entre as variáveis independentes numéricas"
      ]
    },
    {
      "cell_type": "code",
      "metadata": {
        "colab": {
          "base_uri": "https://localhost:8080/",
          "height": 501
        },
        "id": "Lmki2mTh7ZtU",
        "outputId": "b0935c56-e638-4473-a68e-7b350995d896"
      },
      "source": [
        "dt_corr = dataset.corr()\n",
        "dt_mask = np.zeros_like(dt_corr, dtype=np.bool)\n",
        "dt_mask[np.triu_indices_from(dt_mask)] = True\n",
        "fig, ax = plt.subplots(figsize=(10, 7))\n",
        "pl = sns.heatmap(dt_corr, mask=dt_mask, cmap= \"coolwarm\", vmax=.5, vmin=-.5, center=0, linewidths=.5,\n",
        "                 cbar_kws={\"shrink\": 0.6})\n",
        "plt.show()"
      ],
      "execution_count": null,
      "outputs": [
        {
          "output_type": "display_data",
          "data": {
            "image/png": "[encoded data removed]",
            "text/plain": [
              "<Figure size 720x504 with 2 Axes>"
            ]
          },
          "metadata": {
            "tags": []
          }
        }
      ]
    },
    {
      "cell_type": "markdown",
      "metadata": {
        "id": "cqks_QkAsx0g"
      },
      "source": [
        "Alta relação positiva entre as variáveis econômicas e sociais (emp.var.rate, cons.price.idx, cons.conf.idx e euribor3m)"
      ]
    },
    {
      "cell_type": "markdown",
      "metadata": {
        "id": "c8HKYi93uN_d"
      },
      "source": [
        "## Tratamento dos dados"
      ]
    },
    {
      "cell_type": "code",
      "metadata": {
        "id": "nvr_c3_sGF8v"
      },
      "source": [
        "X, y = dataset.iloc[:, :-1].values, dataset.iloc[:, -1].values"
      ],
      "execution_count": null,
      "outputs": []
    },
    {
      "cell_type": "code",
      "metadata": {
        "id": "wFYL5MAmFywI"
      },
      "source": [
        "# Conversão dos dados categóricos\n",
        "from sklearn.compose import ColumnTransformer\n",
        "from sklearn.preprocessing import OneHotEncoder\n",
        "\n",
        "ct = ColumnTransformer(transformers=[('encoder', OneHotEncoder(), [1, 2, 3, 4, 5, 6, 7, 8, 9, 14])], remainder='passthrough')\n",
        "X = np.array(ct.fit_transform(X))"
      ],
      "execution_count": null,
      "outputs": []
    },
    {
      "cell_type": "code",
      "metadata": {
        "id": "XPuA6W4JKPvd"
      },
      "source": [
        "# Conversão da variável dependente de categórica para numérica\n",
        "from sklearn.preprocessing import LabelEncoder\n",
        "le = LabelEncoder()\n",
        "y = le.fit_transform(y)"
      ],
      "execution_count": null,
      "outputs": []
    },
    {
      "cell_type": "code",
      "metadata": {
        "id": "plXrWe_-BMGZ"
      },
      "source": [
        "# Divisão dos dados em treino e teste\n",
        "from sklearn.model_selection import train_test_split\n",
        "X_train, X_test, y_train, y_test = train_test_split(X, y, test_size=0.2, random_state=0)"
      ],
      "execution_count": null,
      "outputs": []
    },
    {
      "cell_type": "markdown",
      "metadata": {
        "id": "i5rkc9t6sSTL"
      },
      "source": [
        "### Detecção de Outliers"
      ]
    },
    {
      "cell_type": "code",
      "metadata": {
        "colab": {
          "base_uri": "https://localhost:8080/",
          "height": 387
        },
        "id": "OaVlqfwmmdlm",
        "outputId": "8330e43d-aa1f-4d37-a52f-ca19bf9ecead"
      },
      "source": [
        "sns.boxplot(x=dataset['duration'])"
      ],
      "execution_count": null,
      "outputs": [
        {
          "output_type": "execute_result",
          "data": {
            "text/plain": [
              "<matplotlib.axes._subplots.AxesSubplot at 0x7fd5af4ca9d0>"
            ]
          },
          "metadata": {
            "tags": []
          },
          "execution_count": 14
        },
        {
          "output_type": "display_data",
          "data": {
            "image/png": "[encoded data removed]",
            "text/plain": [
              "<Figure size 576x396 with 1 Axes>"
            ]
          },
          "metadata": {
            "tags": []
          }
        }
      ]
    },
    {
      "cell_type": "markdown",
      "metadata": {
        "id": "AoLiNOnxu37Z"
      },
      "source": [
        "Como observado anteriormente, existe um grande intervalo entre o 3º quartil e o valor máximo.\n",
        "\n",
        "O gráfico acima demonstra isso e evidencia a existência de outliers."
      ]
    },
    {
      "cell_type": "code",
      "metadata": {
        "colab": {
          "base_uri": "https://localhost:8080/"
        },
        "id": "ZVzrZomT09Fz",
        "outputId": "05ace3b0-4d42-4bcd-9c60-b03874f230f7"
      },
      "source": [
        "from sklearn.ensemble import IsolationForest\n",
        "\n",
        "print(X_train.shape, y_train.shape)\n",
        "print(Counter(y_train))\n",
        "\n",
        "# identificação de outliers no conjunto de treino\n",
        "iso = IsolationForest(contamination=0.1)\n",
        "yhat = iso.fit_predict(X_train[:, [54, 55, 57, 59, 60, 61, 62]])\n",
        "\n",
        "# seleção dos registros que não são outliers\n",
        "mask = yhat != -1\n",
        "X_train_wt_outliers, y_train_wt_outliers = X_train[mask, :],  y_train[mask]\n",
        "\n",
        "print(X_train_wt_outliers.shape, y_train_wt_outliers.shape)\n",
        "print(Counter(y_train_wt_outliers))"
      ],
      "execution_count": null,
      "outputs": [
        {
          "output_type": "stream",
          "text": [
            "(32950, 63) (32950,)\n",
            "Counter({0: 29229, 1: 3721})\n",
            "(29655, 63) (29655,)\n",
            "Counter({0: 27314, 1: 2341})\n"
          ],
          "name": "stdout"
        }
      ]
    },
    {
      "cell_type": "markdown",
      "metadata": {
        "id": "K9zEE2JXwRKj"
      },
      "source": [
        "Um problema comum em conjuntos de dados que possuem a variável dependente desbalanceada é, durante o tratamento de outliers, perder informações relacionadas a classe de interesse (cliente que realizou depósito a prazo).\n",
        "\n",
        "Normalmente nesses casos o modelo perde desempenho após o tratamento. Devido a isso (e após testes), foi optado por manter os outliers."
      ]
    },
    {
      "cell_type": "markdown",
      "metadata": {
        "id": "oarWm9eWx8tB"
      },
      "source": [
        "### Normalização e Balanceamento"
      ]
    },
    {
      "cell_type": "code",
      "metadata": {
        "id": "dUhoPNHhBZr5"
      },
      "source": [
        "# converte as variáveis independentes numéricas para a mesma escala\n",
        "from sklearn.preprocessing import StandardScaler\n",
        "sc = StandardScaler()\n",
        "X_train[:, 53:] = sc.fit_transform(X_train[:, 53:])\n",
        "X_test[:, 53:] = sc.transform(X_test[:, 53:])"
      ],
      "execution_count": null,
      "outputs": []
    },
    {
      "cell_type": "code",
      "metadata": {
        "colab": {
          "base_uri": "https://localhost:8080/"
        },
        "id": "n99KLWZCvNx2",
        "outputId": "c29bdf17-6c39-4070-8cbe-da132dbaa62a"
      },
      "source": [
        "# balanceamento do conjunto de treino\n",
        "from imblearn.over_sampling import RandomOverSampler\n",
        "print(Counter(y_train))\n",
        "oversample = RandomOverSampler(sampling_strategy='minority')\n",
        "X_train, y_train = oversample.fit_resample(X_train, y_train)\n",
        "print(Counter(y_train))"
      ],
      "execution_count": null,
      "outputs": [
        {
          "output_type": "stream",
          "text": [
            "Counter({0: 29229, 1: 3721})\n",
            "Counter({0: 29229, 1: 29229})\n"
          ],
          "name": "stdout"
        },
        {
          "output_type": "stream",
          "text": [
            "/usr/local/lib/python3.7/dist-packages/sklearn/externals/six.py:31: FutureWarning: The module is deprecated in version 0.21 and will be removed in version 0.23 since we've dropped support for Python 2.7. Please rely on the official version of six (https://pypi.org/project/six/).\n",
            "  \"(https://pypi.org/project/six/).\", FutureWarning)\n",
            "/usr/local/lib/python3.7/dist-packages/sklearn/utils/deprecation.py:144: FutureWarning: The sklearn.neighbors.base module is  deprecated in version 0.22 and will be removed in version 0.24. The corresponding classes / functions should instead be imported from sklearn.neighbors. Anything that cannot be imported from sklearn.neighbors is now part of the private API.\n",
            "  warnings.warn(message, FutureWarning)\n",
            "/usr/local/lib/python3.7/dist-packages/sklearn/utils/deprecation.py:87: FutureWarning: Function safe_indexing is deprecated; safe_indexing is deprecated in version 0.22 and will be removed in version 0.24.\n",
            "  warnings.warn(msg, category=FutureWarning)\n"
          ],
          "name": "stderr"
        }
      ]
    },
    {
      "cell_type": "markdown",
      "metadata": {
        "id": "K72GpzFv1btz"
      },
      "source": [
        "Como há poucos dados da classe de interesse optou-se pela técnica de oversampling. "
      ]
    },
    {
      "cell_type": "markdown",
      "metadata": {
        "id": "QoM-yu54y1yA"
      },
      "source": [
        "## Modelo de Classificação - Random Forest"
      ]
    },
    {
      "cell_type": "code",
      "metadata": {
        "colab": {
          "base_uri": "https://localhost:8080/"
        },
        "id": "FXoF6D5ZKoTI",
        "outputId": "b70b1ea8-b713-4180-b9fa-f4ba44a72b55"
      },
      "source": [
        "from sklearn.ensemble import RandomForestClassifier\n",
        "from sklearn.model_selection import GridSearchCV\n",
        "\n",
        "param_grid = {\n",
        "    'bootstrap': [True],\n",
        "    'max_depth': [50, 70],\n",
        "    'max_features': [20, 30, 40],\n",
        "    'min_samples_split': [8, 12],\n",
        "    'n_estimators': [10, 20, 30]\n",
        "}\n",
        "\n",
        "classifier = RandomForestClassifier()\n",
        "grid_search = GridSearchCV(classifier, param_grid, cv=3, n_jobs=-1)\n",
        "grid_search.fit(X_train, y_train)"
      ],
      "execution_count": null,
      "outputs": [
        {
          "output_type": "execute_result",
          "data": {
            "text/plain": [
              "GridSearchCV(cv=3, error_score=nan,\n",
              "             estimator=RandomForestClassifier(bootstrap=True, ccp_alpha=0.0,\n",
              "                                              class_weight=None,\n",
              "                                              criterion='gini', max_depth=None,\n",
              "                                              max_features='auto',\n",
              "                                              max_leaf_nodes=None,\n",
              "                                              max_samples=None,\n",
              "                                              min_impurity_decrease=0.0,\n",
              "                                              min_impurity_split=None,\n",
              "                                              min_samples_leaf=1,\n",
              "                                              min_samples_split=2,\n",
              "                                              min_weight_fraction_leaf=0.0,\n",
              "                                              n_estimators=100, n_jobs=None,\n",
              "                                              oob_score=False,\n",
              "                                              random_state=None, verbose=0,\n",
              "                                              warm_start=False),\n",
              "             iid='deprecated', n_jobs=-1,\n",
              "             param_grid={'bootstrap': [True], 'max_depth': [50, 70],\n",
              "                         'max_features': [20, 30, 40],\n",
              "                         'min_samples_split': [8, 12],\n",
              "                         'n_estimators': [10, 20, 30]},\n",
              "             pre_dispatch='2*n_jobs', refit=True, return_train_score=False,\n",
              "             scoring=None, verbose=0)"
            ]
          },
          "metadata": {
            "tags": []
          },
          "execution_count": 18
        }
      ]
    },
    {
      "cell_type": "code",
      "metadata": {
        "id": "VJqCtHS1LFXJ"
      },
      "source": [
        "classifier = grid_search.best_estimator_"
      ],
      "execution_count": null,
      "outputs": []
    },
    {
      "cell_type": "code",
      "metadata": {
        "colab": {
          "base_uri": "https://localhost:8080/"
        },
        "id": "8aoupZ5WMVTy",
        "outputId": "2817a954-85d4-4538-be27-0b39b16a2ef3"
      },
      "source": [
        "grid_search.best_params_"
      ],
      "execution_count": null,
      "outputs": [
        {
          "output_type": "execute_result",
          "data": {
            "text/plain": [
              "{'bootstrap': True,\n",
              " 'max_depth': 70,\n",
              " 'max_features': 30,\n",
              " 'min_samples_split': 8,\n",
              " 'n_estimators': 30}"
            ]
          },
          "metadata": {
            "tags": []
          },
          "execution_count": 20
        }
      ]
    },
    {
      "cell_type": "markdown",
      "metadata": {
        "id": "zXY3d12roEXL"
      },
      "source": [
        "## Validação do Modelo"
      ]
    },
    {
      "cell_type": "code",
      "metadata": {
        "colab": {
          "base_uri": "https://localhost:8080/"
        },
        "id": "7ASA3S_rnV6q",
        "outputId": "0351d4f6-da6a-427a-dcbe-9484506fec6a"
      },
      "source": [
        "from sklearn.model_selection import cross_val_score\n",
        "from sklearn.metrics import recall_score\n",
        "from sklearn.model_selection import cross_validate\n",
        "\n",
        "scores = cross_val_score(classifier, X_train, y_train, cv=5)\n",
        "print(scores)\n",
        "print(\"%0.2f accuracy with a standard deviation of %0.2f\" % (scores.mean(), scores.std()))\n",
        "\n",
        "scoring = ['precision_macro', 'recall_macro']\n",
        "scores = cross_validate(classifier, X_train, y_train, scoring=scoring)\n",
        "print(scores['test_recall_macro'])\n",
        "print(scores['test_precision_macro'])"
      ],
      "execution_count": null,
      "outputs": [
        {
          "output_type": "stream",
          "text": [
            "[0.96493329 0.96022922 0.96057133 0.96048242 0.96364725]\n",
            "0.96 accuracy with a standard deviation of 0.00\n",
            "[0.96510434 0.96040027 0.96202532 0.96176861 0.96338761]\n",
            "[0.96714094 0.9632311  0.96465753 0.96428681 0.96572935]\n"
          ],
          "name": "stdout"
        }
      ]
    },
    {
      "cell_type": "markdown",
      "metadata": {
        "id": "i5mYBaTpWmvo"
      },
      "source": [
        "Altos valores de acurácia, precisão e recall com a aplicação da técnica de validação cruzada no conjunto de treino."
      ]
    },
    {
      "cell_type": "code",
      "metadata": {
        "colab": {
          "base_uri": "https://localhost:8080/"
        },
        "id": "fK654tIEJS3Y",
        "outputId": "7d9d9a42-f505-4a2d-cdbe-a39d2208d7a7"
      },
      "source": [
        "from sklearn.metrics import classification_report\n",
        "y_pred = classifier.predict(X_test)\n",
        "print(classification_report(y_test, y_pred))"
      ],
      "execution_count": null,
      "outputs": [
        {
          "output_type": "stream",
          "text": [
            "              precision    recall  f1-score   support\n",
            "\n",
            "           0       0.96      0.94      0.95      7319\n",
            "           1       0.58      0.71      0.64       919\n",
            "\n",
            "    accuracy                           0.91      8238\n",
            "   macro avg       0.77      0.82      0.80      8238\n",
            "weighted avg       0.92      0.91      0.92      8238\n",
            "\n"
          ],
          "name": "stdout"
        }
      ]
    },
    {
      "cell_type": "markdown",
      "metadata": {
        "id": "t2FevQSgzO6m"
      },
      "source": [
        "Alta acurária (91%). O modelo consegue classificar relativamente bem a classe de interesse (71%)."
      ]
    },
    {
      "cell_type": "code",
      "metadata": {
        "colab": {
          "base_uri": "https://localhost:8080/",
          "height": 574
        },
        "id": "mHC1y3PRJa13",
        "outputId": "69e2da76-b927-4372-aa51-e1afe9baaf34"
      },
      "source": [
        "importance = classifier.feature_importances_\n",
        "fig, ax = plt.subplots()\n",
        "fig.set_size_inches(20, 8.27)\n",
        "sns.barplot([x for x in range(len(importance))], importance, ax=ax)"
      ],
      "execution_count": null,
      "outputs": [
        {
          "output_type": "stream",
          "text": [
            "/usr/local/lib/python3.7/dist-packages/seaborn/_decorators.py:43: FutureWarning: Pass the following variables as keyword args: x, y. From version 0.12, the only valid positional argument will be `data`, and passing other arguments without an explicit keyword will result in an error or misinterpretation.\n",
            "  FutureWarning\n"
          ],
          "name": "stderr"
        },
        {
          "output_type": "execute_result",
          "data": {
            "text/plain": [
              "<matplotlib.axes._subplots.AxesSubplot at 0x7fd5ab0d1a10>"
            ]
          },
          "metadata": {
            "tags": []
          },
          "execution_count": 23
        },
        {
          "output_type": "display_data",
          "data": {
            "image/png": "[encoded data removed]",
            "text/plain": [
              "<Figure size 1440x595.44 with 1 Axes>"
            ]
          },
          "metadata": {
            "tags": []
          }
        }
      ]
    },
    {
      "cell_type": "markdown",
      "metadata": {
        "id": "jnmHRvpKz5_x"
      },
      "source": [
        "Pricipais influenciadores (em ordem descrescente de importância): \n",
        "* Duração do contato\n",
        "* Número de funcionários  \n",
        "* Euribor\n",
        "* Taxa de variação do emprego    \n",
        "* Dia da semana    \n",
        "* Índice de confiança do consumidor"
      ]
    },
    {
      "cell_type": "markdown",
      "metadata": {
        "id": "Ph80G9a00JGm"
      },
      "source": [
        "## Predição de um novo registro"
      ]
    },
    {
      "cell_type": "code",
      "metadata": {
        "id": "ji04i8dJ8bkE"
      },
      "source": [
        "new_pred = [\n",
        "  20,                   # idade\n",
        "  'admin.',             # tipo de trabalho  (categorias: 'admin.','blue-collar','entrepreneur','housemaid','management','retired','self-employed','services','student','technician','unemployed','unknown')\n",
        "  'married',            # estado civil (categorias: 'divorced','married','single','unknown') observação: 'divorced' significa divorciado ou viúvo\n",
        "  'basic.4y',           # educação (categorias:'basic.4y','basic.6y','basic.9y','high.school','illiterate','professional.course','university.degree','unknown') \n",
        "  'no',                 # tem crédito inadimplente? (categorias: 'no','yes','unknown')\n",
        "  'no',                 # tem crédito habitacional? (categorias: 'no','yes','unknown')\n",
        "  'no',                 # tem emprétimo pessoal? (categorias: 'no','yes','unknown')\n",
        "  'telephone',          # tipo de comunicação do contato (categorias: 'cellular','telephone')\n",
        "  'may',                # mês do último contato\n",
        "  'mon',                # dia da semana do último contato (categorias: 'mon','tue','wed','thu','fri')\n",
        "  300,                  # duração do último contato (em segundos)\n",
        "  2,                    # quantidade de contatos realizados durante esta campanha e para este cliente (inclui último contato)\n",
        "  999,                  # número de dias que passaram após o último contato do cliente de uma campanha anterior (999 significa que o cliente não foi contatado anteriormente)\n",
        "  0,                    # quantidade de contatos realizados antes desta campanha e para este cliente\n",
        "  'nonexistent',        # resultado da campanha de marketing anterior (categorias: 'failure','nonexistent','success')\n",
        "  1.1,                  # taxa de variação do emprego\n",
        "  90,                   # índice de preços ao consumidor\n",
        "  -40,                  # índice de confiança do consumidor\n",
        "  4.23,                 # euribor\n",
        "  5200                  # número de funcionários\n",
        "]"
      ],
      "execution_count": null,
      "outputs": []
    },
    {
      "cell_type": "code",
      "metadata": {
        "id": "9am9qmBsZ8uh"
      },
      "source": [
        "new_pred = np.array(ct.transform([new_pred]))"
      ],
      "execution_count": null,
      "outputs": []
    },
    {
      "cell_type": "code",
      "metadata": {
        "id": "rY0ACTJhZhRY"
      },
      "source": [
        "new_pred[:, 53:] = sc.transform(new_pred[:, 53:])"
      ],
      "execution_count": null,
      "outputs": []
    },
    {
      "cell_type": "code",
      "metadata": {
        "colab": {
          "base_uri": "https://localhost:8080/"
        },
        "id": "gWDYMf-NZlnh",
        "outputId": "51dca526-4b7e-450f-dfb3-be64356da7de"
      },
      "source": [
        "new_y = classifier.predict(new_pred)\n",
        "print('Depósito a Prazo Realizado' if new_y[0] == 1 else 'Depósito a Prazo Não Realizado')"
      ],
      "execution_count": null,
      "outputs": [
        {
          "output_type": "stream",
          "text": [
            "Depósito a Prazo Não Realizado\n"
          ],
          "name": "stdout"
        }
      ]
    },
    {
      "cell_type": "markdown",
      "metadata": {
        "id": "C801-G3P0PLe"
      },
      "source": [
        "## Criação do conjunto de dados de predição (utilizado no Power BI)"
      ]
    },
    {
      "cell_type": "markdown",
      "metadata": {
        "id": "IP9nNY6G6Qqm"
      },
      "source": [
        "Foram utilizados os seguintes valores:\n",
        "\n",
        "* Duração\n",
        " * Intervalo: 120 - 600\n",
        " * Tamanho dos segmentos: 30\n",
        "\n",
        "* Euribor\n",
        " * Intervalo: 0,5 - 5\n",
        " * Tamanho dos segmentos: 0,5\n",
        "\n",
        "* Variação da taxa de emprego\n",
        " * Intervalo: -3,0 - 3,0\n",
        " * Tamanho dos segmentos: 1\n",
        "\n",
        "* Dias da semana\n",
        " * Intervalo: 1 - 5\n",
        " * Tamanho dos segmentos: 1\n",
        "\n",
        "* Índice de confiança do consumidor\n",
        " * Intervalo: -40 - -10\n",
        " * Tamanho dos segmentos: 5\n",
        "\n",
        "* Demais variáveis independentes:\n",
        " * Categóricas: valor mais comum\n",
        " * Numéricas: mediana"
      ]
    },
    {
      "cell_type": "code",
      "metadata": {
        "id": "K7ebJrzchIcB"
      },
      "source": [
        "df_age = dataset['age'].median()\n",
        "df_job = dataset['job'].value_counts().idxmax()\n",
        "df_marital = dataset['marital'].value_counts().idxmax()\n",
        "df_education = dataset['education'].value_counts().idxmax()\n",
        "df_default = dataset['default'].value_counts().idxmax()\n",
        "df_housing = dataset['housing'].value_counts().idxmax()\n",
        "df_loan = dataset['loan'].value_counts().idxmax()\n",
        "df_contact = dataset['contact'].value_counts().idxmax()\n",
        "df_month = dataset['month'].value_counts().idxmax()\n",
        "df_campaign = dataset['campaign'].median()\n",
        "df_pdays = dataset['pdays'].median()\n",
        "df_previous = dataset['previous'].median()\n",
        "df_poutcome = dataset['poutcome'].value_counts().idxmax()\n",
        "df_cons_price_idx = dataset['cons.price.idx'].median()\n",
        "df_nr_employed = dataset['nr.employed'].median()"
      ],
      "execution_count": null,
      "outputs": []
    },
    {
      "cell_type": "code",
      "metadata": {
        "id": "YFPmoqYAjzFd"
      },
      "source": [
        "start_duration = 120\n",
        "end_duration = 600\n",
        "step_duration = 30\n",
        "list_duration = [i for i in range(start_duration, end_duration + step_duration, step_duration)]\n",
        "\n",
        "start_euribor = 0.5\n",
        "end_euribor = 5\n",
        "step_euribor = 0.5\n",
        "correction_factor = 2\n",
        "list_euribor = [i / correction_factor for i in range(int(start_euribor * correction_factor), int((end_euribor + step_euribor) * correction_factor), int(step_euribor * correction_factor))]\n",
        "list_euribor\n",
        "\n",
        "start_emp_rate = -3\n",
        "end_emp_rate = 3\n",
        "step_emp_rate = 1\n",
        "list_emp_rate = [i for i in range(start_emp_rate, end_emp_rate + step_emp_rate, step_emp_rate)]\n",
        "\n",
        "list_day_of_week = []\n",
        "for day in dataset['day_of_week'].unique():\n",
        "  list_day_of_week.append(day)\n",
        "\n",
        "start_cons_conf = -40\n",
        "end_cons_conf = -10\n",
        "step_cons_conf = 5\n",
        "list_cons_conf = [i for i in range(start_cons_conf, end_cons_conf + step_cons_conf, step_cons_conf)]"
      ],
      "execution_count": null,
      "outputs": []
    },
    {
      "cell_type": "code",
      "metadata": {
        "id": "j6CT8m_nu4DQ"
      },
      "source": [
        "dt_ask = []\n",
        "for drt in list_duration:\n",
        "  for erb in list_euribor:\n",
        "    for emp in list_emp_rate:\n",
        "      for day in list_day_of_week:\n",
        "        for conf in list_cons_conf:\n",
        "          dt_ask.append([df_age, df_job, df_marital, df_education, df_default, df_housing, df_loan, df_contact, df_month, day, drt,\n",
        "                        df_campaign, df_pdays, df_previous, df_poutcome, emp, df_cons_price_idx, conf, erb, df_nr_employed])"
      ],
      "execution_count": null,
      "outputs": []
    },
    {
      "cell_type": "code",
      "metadata": {
        "id": "oeA9fyb3jeJ6"
      },
      "source": [
        "dt = np.array(dt_ask)"
      ],
      "execution_count": null,
      "outputs": []
    },
    {
      "cell_type": "code",
      "metadata": {
        "id": "-XUzVaG-3SBZ"
      },
      "source": [
        "X_ask = np.array(ct.transform(dt_ask))"
      ],
      "execution_count": null,
      "outputs": []
    },
    {
      "cell_type": "code",
      "metadata": {
        "id": "ItXZ4gH7RUX-"
      },
      "source": [
        "X_ask[:, 53:] = sc.transform(X_ask[:, 53:])"
      ],
      "execution_count": null,
      "outputs": []
    },
    {
      "cell_type": "code",
      "metadata": {
        "id": "HBZMQxxYR1Q1"
      },
      "source": [
        "y_ask = classifier.predict(X_ask)"
      ],
      "execution_count": null,
      "outputs": []
    },
    {
      "cell_type": "code",
      "metadata": {
        "id": "MFBgtLuwR-Gs"
      },
      "source": [
        "dt_predict = pd.DataFrame({\n",
        "    'day_of_week': dt[:, 9],\n",
        "    'duration': dt[:, 10],\n",
        "    'emp_var_rate': dt[:, 15],\n",
        "    'cons_conf_idx': dt[:, 17],\n",
        "    'euribor': dt[:, 18],\n",
        "    'term_deposit': y_ask\n",
        "})"
      ],
      "execution_count": null,
      "outputs": []
    },
    {
      "cell_type": "code",
      "metadata": {
        "id": "5_1F-XdSloiM"
      },
      "source": [
        "dt_predict.to_csv('fPredict.csv', index=False)"
      ],
      "execution_count": null,
      "outputs": []
    }
  ]
}