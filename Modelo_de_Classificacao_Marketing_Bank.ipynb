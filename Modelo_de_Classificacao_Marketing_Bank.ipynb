{
  "nbformat": 4,
  "nbformat_minor": 0,
  "metadata": {
    "colab": {
      "name": "Modelo de Classificacao Marketing Bank  V_3_5.ipynb",
      "provenance": [],
      "collapsed_sections": [
        "ljkeh0M2lce9"
      ]
    },
    "kernelspec": {
      "name": "python3",
      "display_name": "Python 3"
    }
  },
  "cells": [
    {
      "cell_type": "markdown",
      "metadata": {
        "id": "e98mQ_0OrETZ"
      },
      "source": [
        "# Modelo de classificação - Campanha de marketing de uma instituição bancária\n",
        "\n",
        "Os dados referem-se a campanhas de marketing de uma instituição bancária portuguesa realizadas entre 2008 e 2010. O objetivo é prever se o cliente fará um depósito a prazo.\n",
        "\n",
        "Visando facilitar a análise dos dados, desenvolvi um dashboard que pode ser acessado em [Dashboard de Marketing](https://app.powerbi.com/view?r=eyJrIjoiYjJlMjQxYWQtMTZlYy00ZDYzLWFhYWMtOTM4ZTQ4YTg1NTFlIiwidCI6ImUxYWFhM2NmLTI5MjItNDEyYy04MDE1LWRlZTEyZDg1MTJmYSJ9&pageName=ReportSectionac001f34a9fc80bde708).\n",
        "\n",
        "O conjunto de dados pode ser obtido em: <https://archive.ics.uci.edu/ml/datasets/Bank+Marketing>.\n",
        "\n",
        "**Fonte**\n",
        "\n",
        "[Moro et al., 2014] S. Moro, P. Cortez and P. Rita. A Data-Driven Approach to Predict the Success of Bank Telemarketing. Decision Support Systems, Elsevier, 62:22-31, June 2014"
      ]
    },
    {
      "cell_type": "markdown",
      "metadata": {
        "id": "ljkeh0M2lce9"
      },
      "source": [
        "## Resumo\n",
        "* Importação das principais bibliotecas e carregamento dos dados\n",
        "* Dicionários dos parâmetros e constantes utilizados no modelo\n",
        "* Análise inicial\n",
        " * Relação entre as variáveis independentes numéricas\n",
        "* Feature Engineering\n",
        " * Adicionando os anos\n",
        " * Adicionando os blocos\n",
        "* Divisão entre treino e teste\n",
        "* Pré-processamento dos dados\n",
        "* Embeddings supervisionados\n",
        "* Técnica de validação prequential expanding\n",
        "* Otimização Bayesiana - LightGBM\n",
        "* Resultados no conjunto de teste\n"
      ]
    },
    {
      "cell_type": "markdown",
      "metadata": {
        "id": "_ahIpODDrOKW"
      },
      "source": [
        "## Importação das principais bibliotecas e carregamento dos dados"
      ]
    },
    {
      "cell_type": "code",
      "metadata": {
        "id": "PXlUzjE0_okU"
      },
      "source": [
        "import pandas as pd\n",
        "import numpy as np\n",
        "import matplotlib.pyplot as plt\n",
        "import seaborn as sns\n",
        "plt.style.use('seaborn')\n",
        "sns.set_theme(style = 'darkgrid')\n",
        "from collections import Counter\n",
        "\n",
        "pd.set_option(\"display.max_rows\", None, \"display.max_columns\", None)"
      ],
      "execution_count": 2,
      "outputs": []
    },
    {
      "cell_type": "code",
      "metadata": {
        "id": "a7453eZt_-M1"
      },
      "source": [
        "dataset = pd.read_csv('bank-additional-full.csv', delimiter=';')"
      ],
      "execution_count": 3,
      "outputs": []
    },
    {
      "cell_type": "markdown",
      "metadata": {
        "id": "I5TLq3GRlcPB"
      },
      "source": [
        "## Dicionários dos parâmetros e constantes utilizados no modelo"
      ]
    },
    {
      "cell_type": "code",
      "metadata": {
        "id": "6HRPII5wYWzE"
      },
      "source": [
        "params = {\n",
        "    'num_epochs': 500,                                            # numero de epochs de treinamento do embedding\n",
        "    'seed': 0,                                                    # semente aleatoria. Definida para tornar os resultados reproduziveis\n",
        "    'verbose': True,                                              # opcao para visualizar os detalhes do treinamento\n",
        "    'n_calls_tuning': 20,                                         # numero de chamadas do otimizador bayesiano\n",
        "    'mdl_params':                                                 # paramentros de otimizacao do modelo\n",
        "        [(2, 200),                                                # quantidade minima de registros nas folhas\n",
        "         (10, 1000),                                              # numero de folhas\n",
        "         (1e-3, 1e-2, 'log-uniform'),                             # taxa de aprendizado\n",
        "         (0.1, 0.9),                                              # proporcao de colunas utilizadas por amostra\n",
        "         (100, 1000)]                                             # numero de arvores\n",
        "}   \n",
        "\n",
        "constants = {\n",
        "    'DT_TRAIN': 0,                                                # dataset para treino e validacao (sera definido apos limpeza dos dados)\n",
        "    'LEN_SPLIT_TRAIN_TEST': 0.7,                                  # split de divisao entre treino e teste\n",
        "    'NUM_BLOCKS_VALIDATION': 10,                                  # numero de divisoes para treino e validacao\n",
        "    'CATEGORICAL_COLUMNS':  [                                     # colunas com dados categoricos\n",
        "        'job', \n",
        "        'marital', \n",
        "        'education', \n",
        "        'default', \n",
        "        'housing', \n",
        "        'loan', \n",
        "        'contact', \n",
        "        'month', \n",
        "        'day_of_week', \n",
        "        'poutcome'\n",
        "    ]    \n",
        "}\n"
      ],
      "execution_count": 41,
      "outputs": []
    },
    {
      "cell_type": "markdown",
      "metadata": {
        "id": "od2pYM91rY2N"
      },
      "source": [
        "## Análise Inicial"
      ]
    },
    {
      "cell_type": "code",
      "metadata": {
        "colab": {
          "base_uri": "https://localhost:8080/",
          "height": 224
        },
        "id": "WbZuGtJAAQ1w",
        "outputId": "1bf2bcdf-12df-4c86-dcc8-9e70a1f6fec7"
      },
      "source": [
        "dataset.head()"
      ],
      "execution_count": 5,
      "outputs": [
        {
          "output_type": "execute_result",
          "data": {
            "text/html": [
              "<div>\n",
              "<style scoped>\n",
              "    .dataframe tbody tr th:only-of-type {\n",
              "        vertical-align: middle;\n",
              "    }\n",
              "\n",
              "    .dataframe tbody tr th {\n",
              "        vertical-align: top;\n",
              "    }\n",
              "\n",
              "    .dataframe thead th {\n",
              "        text-align: right;\n",
              "    }\n",
              "</style>\n",
              "<table border=\"1\" class=\"dataframe\">\n",
              "  <thead>\n",
              "    <tr style=\"text-align: right;\">\n",
              "      <th></th>\n",
              "      <th>age</th>\n",
              "      <th>job</th>\n",
              "      <th>marital</th>\n",
              "      <th>education</th>\n",
              "      <th>default</th>\n",
              "      <th>housing</th>\n",
              "      <th>loan</th>\n",
              "      <th>contact</th>\n",
              "      <th>month</th>\n",
              "      <th>day_of_week</th>\n",
              "      <th>duration</th>\n",
              "      <th>campaign</th>\n",
              "      <th>pdays</th>\n",
              "      <th>previous</th>\n",
              "      <th>poutcome</th>\n",
              "      <th>emp.var.rate</th>\n",
              "      <th>cons.price.idx</th>\n",
              "      <th>cons.conf.idx</th>\n",
              "      <th>euribor3m</th>\n",
              "      <th>nr.employed</th>\n",
              "      <th>y</th>\n",
              "    </tr>\n",
              "  </thead>\n",
              "  <tbody>\n",
              "    <tr>\n",
              "      <th>0</th>\n",
              "      <td>56</td>\n",
              "      <td>housemaid</td>\n",
              "      <td>married</td>\n",
              "      <td>basic.4y</td>\n",
              "      <td>no</td>\n",
              "      <td>no</td>\n",
              "      <td>no</td>\n",
              "      <td>telephone</td>\n",
              "      <td>may</td>\n",
              "      <td>mon</td>\n",
              "      <td>261</td>\n",
              "      <td>1</td>\n",
              "      <td>999</td>\n",
              "      <td>0</td>\n",
              "      <td>nonexistent</td>\n",
              "      <td>1.1</td>\n",
              "      <td>93.994</td>\n",
              "      <td>-36.4</td>\n",
              "      <td>4.857</td>\n",
              "      <td>5191.0</td>\n",
              "      <td>no</td>\n",
              "    </tr>\n",
              "    <tr>\n",
              "      <th>1</th>\n",
              "      <td>57</td>\n",
              "      <td>services</td>\n",
              "      <td>married</td>\n",
              "      <td>high.school</td>\n",
              "      <td>unknown</td>\n",
              "      <td>no</td>\n",
              "      <td>no</td>\n",
              "      <td>telephone</td>\n",
              "      <td>may</td>\n",
              "      <td>mon</td>\n",
              "      <td>149</td>\n",
              "      <td>1</td>\n",
              "      <td>999</td>\n",
              "      <td>0</td>\n",
              "      <td>nonexistent</td>\n",
              "      <td>1.1</td>\n",
              "      <td>93.994</td>\n",
              "      <td>-36.4</td>\n",
              "      <td>4.857</td>\n",
              "      <td>5191.0</td>\n",
              "      <td>no</td>\n",
              "    </tr>\n",
              "    <tr>\n",
              "      <th>2</th>\n",
              "      <td>37</td>\n",
              "      <td>services</td>\n",
              "      <td>married</td>\n",
              "      <td>high.school</td>\n",
              "      <td>no</td>\n",
              "      <td>yes</td>\n",
              "      <td>no</td>\n",
              "      <td>telephone</td>\n",
              "      <td>may</td>\n",
              "      <td>mon</td>\n",
              "      <td>226</td>\n",
              "      <td>1</td>\n",
              "      <td>999</td>\n",
              "      <td>0</td>\n",
              "      <td>nonexistent</td>\n",
              "      <td>1.1</td>\n",
              "      <td>93.994</td>\n",
              "      <td>-36.4</td>\n",
              "      <td>4.857</td>\n",
              "      <td>5191.0</td>\n",
              "      <td>no</td>\n",
              "    </tr>\n",
              "    <tr>\n",
              "      <th>3</th>\n",
              "      <td>40</td>\n",
              "      <td>admin.</td>\n",
              "      <td>married</td>\n",
              "      <td>basic.6y</td>\n",
              "      <td>no</td>\n",
              "      <td>no</td>\n",
              "      <td>no</td>\n",
              "      <td>telephone</td>\n",
              "      <td>may</td>\n",
              "      <td>mon</td>\n",
              "      <td>151</td>\n",
              "      <td>1</td>\n",
              "      <td>999</td>\n",
              "      <td>0</td>\n",
              "      <td>nonexistent</td>\n",
              "      <td>1.1</td>\n",
              "      <td>93.994</td>\n",
              "      <td>-36.4</td>\n",
              "      <td>4.857</td>\n",
              "      <td>5191.0</td>\n",
              "      <td>no</td>\n",
              "    </tr>\n",
              "    <tr>\n",
              "      <th>4</th>\n",
              "      <td>56</td>\n",
              "      <td>services</td>\n",
              "      <td>married</td>\n",
              "      <td>high.school</td>\n",
              "      <td>no</td>\n",
              "      <td>no</td>\n",
              "      <td>yes</td>\n",
              "      <td>telephone</td>\n",
              "      <td>may</td>\n",
              "      <td>mon</td>\n",
              "      <td>307</td>\n",
              "      <td>1</td>\n",
              "      <td>999</td>\n",
              "      <td>0</td>\n",
              "      <td>nonexistent</td>\n",
              "      <td>1.1</td>\n",
              "      <td>93.994</td>\n",
              "      <td>-36.4</td>\n",
              "      <td>4.857</td>\n",
              "      <td>5191.0</td>\n",
              "      <td>no</td>\n",
              "    </tr>\n",
              "  </tbody>\n",
              "</table>\n",
              "</div>"
            ],
            "text/plain": [
              "   age        job  marital    education  default housing loan    contact  \\\n",
              "0   56  housemaid  married     basic.4y       no      no   no  telephone   \n",
              "1   57   services  married  high.school  unknown      no   no  telephone   \n",
              "2   37   services  married  high.school       no     yes   no  telephone   \n",
              "3   40     admin.  married     basic.6y       no      no   no  telephone   \n",
              "4   56   services  married  high.school       no      no  yes  telephone   \n",
              "\n",
              "  month day_of_week  duration  campaign  pdays  previous     poutcome  \\\n",
              "0   may         mon       261         1    999         0  nonexistent   \n",
              "1   may         mon       149         1    999         0  nonexistent   \n",
              "2   may         mon       226         1    999         0  nonexistent   \n",
              "3   may         mon       151         1    999         0  nonexistent   \n",
              "4   may         mon       307         1    999         0  nonexistent   \n",
              "\n",
              "   emp.var.rate  cons.price.idx  cons.conf.idx  euribor3m  nr.employed   y  \n",
              "0           1.1          93.994          -36.4      4.857       5191.0  no  \n",
              "1           1.1          93.994          -36.4      4.857       5191.0  no  \n",
              "2           1.1          93.994          -36.4      4.857       5191.0  no  \n",
              "3           1.1          93.994          -36.4      4.857       5191.0  no  \n",
              "4           1.1          93.994          -36.4      4.857       5191.0  no  "
            ]
          },
          "metadata": {},
          "execution_count": 5
        }
      ]
    },
    {
      "cell_type": "code",
      "metadata": {
        "colab": {
          "base_uri": "https://localhost:8080/"
        },
        "id": "iqOIdi89B74h",
        "outputId": "0e4ef349-e517-4263-a200-5ab709b8f62c"
      },
      "source": [
        "dataset.info()"
      ],
      "execution_count": 6,
      "outputs": [
        {
          "output_type": "stream",
          "name": "stdout",
          "text": [
            "<class 'pandas.core.frame.DataFrame'>\n",
            "RangeIndex: 41188 entries, 0 to 41187\n",
            "Data columns (total 21 columns):\n",
            " #   Column          Non-Null Count  Dtype  \n",
            "---  ------          --------------  -----  \n",
            " 0   age             41188 non-null  int64  \n",
            " 1   job             41188 non-null  object \n",
            " 2   marital         41188 non-null  object \n",
            " 3   education       41188 non-null  object \n",
            " 4   default         41188 non-null  object \n",
            " 5   housing         41188 non-null  object \n",
            " 6   loan            41188 non-null  object \n",
            " 7   contact         41188 non-null  object \n",
            " 8   month           41188 non-null  object \n",
            " 9   day_of_week     41188 non-null  object \n",
            " 10  duration        41188 non-null  int64  \n",
            " 11  campaign        41188 non-null  int64  \n",
            " 12  pdays           41188 non-null  int64  \n",
            " 13  previous        41188 non-null  int64  \n",
            " 14  poutcome        41188 non-null  object \n",
            " 15  emp.var.rate    41188 non-null  float64\n",
            " 16  cons.price.idx  41188 non-null  float64\n",
            " 17  cons.conf.idx   41188 non-null  float64\n",
            " 18  euribor3m       41188 non-null  float64\n",
            " 19  nr.employed     41188 non-null  float64\n",
            " 20  y               41188 non-null  object \n",
            "dtypes: float64(5), int64(5), object(11)\n",
            "memory usage: 6.6+ MB\n"
          ]
        }
      ]
    },
    {
      "cell_type": "code",
      "metadata": {
        "id": "p7Gq99cOQ4jU",
        "colab": {
          "base_uri": "https://localhost:8080/"
        },
        "outputId": "9194f0ac-6ab8-496f-afe9-df0178f7b2e4"
      },
      "source": [
        "dataset['y'].value_counts()"
      ],
      "execution_count": 7,
      "outputs": [
        {
          "output_type": "execute_result",
          "data": {
            "text/plain": [
              "no     36548\n",
              "yes     4640\n",
              "Name: y, dtype: int64"
            ]
          },
          "metadata": {},
          "execution_count": 7
        }
      ]
    },
    {
      "cell_type": "markdown",
      "metadata": {
        "id": "kAzROnn7r_DN"
      },
      "source": [
        "Variável dependente desbalanceada. Necessário tratamento para correção."
      ]
    },
    {
      "cell_type": "markdown",
      "metadata": {
        "id": "uNhYUjjssoVX"
      },
      "source": [
        "### Relação entre as variáveis independentes numéricas"
      ]
    },
    {
      "cell_type": "code",
      "metadata": {
        "id": "Lmki2mTh7ZtU",
        "colab": {
          "base_uri": "https://localhost:8080/",
          "height": 501
        },
        "outputId": "e9ac9a30-7481-4840-d47b-18b2f3df01c2"
      },
      "source": [
        "dt_corr = dataset.corr()\n",
        "dt_mask = np.zeros_like(dt_corr, dtype=np.bool)\n",
        "dt_mask[np.triu_indices_from(dt_mask)] = True\n",
        "fig, ax = plt.subplots(figsize=(10, 7))\n",
        "pl = sns.heatmap(dt_corr, mask=dt_mask, cmap= \"coolwarm\", vmax=.5, vmin=-.5, center=0, linewidths=.5,\n",
        "                 cbar_kws={\"shrink\": 0.6})\n",
        "plt.show()"
      ],
      "execution_count": 8,
      "outputs": [
        {
          "output_type": "display_data",
          "data": {
            "image/png": "[encoded data removed]",
            "text/plain": [
              "<Figure size 720x504 with 2 Axes>"
            ]
          },
          "metadata": {}
        }
      ]
    },
    {
      "cell_type": "markdown",
      "metadata": {
        "id": "cqks_QkAsx0g"
      },
      "source": [
        "Alta relação positiva entre as variáveis econômicas e sociais (emp.var.rate, cons.price.idx, cons.conf.idx e euribor3m)"
      ]
    },
    {
      "cell_type": "markdown",
      "metadata": {
        "id": "Uu1z6hIjEd4h"
      },
      "source": [
        "\n",
        "## Feature Engineering"
      ]
    },
    {
      "cell_type": "markdown",
      "metadata": {
        "id": "4-Mrxxv4GY_Y"
      },
      "source": [
        "### Adicionando os anos"
      ]
    },
    {
      "cell_type": "code",
      "metadata": {
        "id": "RL0vPI5tEy1A"
      },
      "source": [
        "months = dataset['month']\n",
        "\n",
        "# ano inicial dos dados\n",
        "year = 2008 \n",
        "list_year = []\n",
        "last_month = months[0]\n",
        "\n",
        "for current_month in months:\n",
        "  if last_month != current_month:\n",
        "    # se o mes anterior e dezembro, adiociona 1 a variavel ano\n",
        "    if last_month == 'dec': \n",
        "      year += 1\n",
        "    last_month = current_month\n",
        "    \n",
        "  list_year.append(year)"
      ],
      "execution_count": 9,
      "outputs": []
    },
    {
      "cell_type": "code",
      "metadata": {
        "id": "npQTGW0vGSOM"
      },
      "source": [
        "dataset.insert(20, \"year\", list_year)"
      ],
      "execution_count": 10,
      "outputs": []
    },
    {
      "cell_type": "markdown",
      "metadata": {
        "id": "jOiPLw06v6Tv"
      },
      "source": [
        "### Adicionando blocos"
      ]
    },
    {
      "cell_type": "code",
      "metadata": {
        "id": "S86k0Gy_v_Im"
      },
      "source": [
        "# criacao da coluna que servira para segmentar os dados em treino, validacao e teste\n",
        "# sera utilizada a tecnica prequential expanding\n",
        "dataset.insert(21, \"block\", 10)"
      ],
      "execution_count": 11,
      "outputs": []
    },
    {
      "cell_type": "code",
      "metadata": {
        "id": "s2MxFAIZv8n0"
      },
      "source": [
        "SPLIT_BLOCK = 1 / constants['NUM_BLOCKS_VALIDATION'] \n",
        "SIZE_XTRAIN = int(dataset.shape[0] * constants['LEN_SPLIT_TRAIN_TEST'])\n",
        "\n",
        "for block in range(constants['NUM_BLOCKS_VALIDATION']):\n",
        "  # preenchimento da coluna block com amostras de tamanhos equivalentes, com excecao do ultimo que sera para teste\n",
        "  dataset.iloc[int(SIZE_XTRAIN * block * SPLIT_BLOCK): int(SIZE_XTRAIN * SPLIT_BLOCK * (block + 1)), -2] = block"
      ],
      "execution_count": 12,
      "outputs": []
    },
    {
      "cell_type": "code",
      "metadata": {
        "colab": {
          "base_uri": "https://localhost:8080/"
        },
        "id": "xKQ7ao6TxCnG",
        "outputId": "3137df47-f603-454f-ca57-ae481e56840c"
      },
      "source": [
        "dataset['block'].value_counts().sort_index()"
      ],
      "execution_count": 13,
      "outputs": [
        {
          "output_type": "execute_result",
          "data": {
            "text/plain": [
              "0      2883\n",
              "1      2883\n",
              "2      2883\n",
              "3      2883\n",
              "4      2883\n",
              "5      2883\n",
              "6      2883\n",
              "7      2883\n",
              "8      2883\n",
              "9      2884\n",
              "10    12357\n",
              "Name: block, dtype: int64"
            ]
          },
          "metadata": {},
          "execution_count": 13
        }
      ]
    },
    {
      "cell_type": "code",
      "metadata": {
        "colab": {
          "base_uri": "https://localhost:8080/"
        },
        "id": "tEegUFeVAYhP",
        "outputId": "c9fe2d03-843d-4040-c593-5ae9e3197f28"
      },
      "source": [
        "dataset.isnull().sum()"
      ],
      "execution_count": 14,
      "outputs": [
        {
          "output_type": "execute_result",
          "data": {
            "text/plain": [
              "age               0\n",
              "job               0\n",
              "marital           0\n",
              "education         0\n",
              "default           0\n",
              "housing           0\n",
              "loan              0\n",
              "contact           0\n",
              "month             0\n",
              "day_of_week       0\n",
              "duration          0\n",
              "campaign          0\n",
              "pdays             0\n",
              "previous          0\n",
              "poutcome          0\n",
              "emp.var.rate      0\n",
              "cons.price.idx    0\n",
              "cons.conf.idx     0\n",
              "euribor3m         0\n",
              "nr.employed       0\n",
              "year              0\n",
              "block             0\n",
              "y                 0\n",
              "dtype: int64"
            ]
          },
          "metadata": {},
          "execution_count": 14
        }
      ]
    },
    {
      "cell_type": "markdown",
      "metadata": {
        "id": "bWVYfMWS2tEH"
      },
      "source": [
        "Não há dados nulos"
      ]
    },
    {
      "cell_type": "markdown",
      "metadata": {
        "id": "-QjDdvo8ujMv"
      },
      "source": [
        "## Divisão entre treino e teste"
      ]
    },
    {
      "cell_type": "code",
      "metadata": {
        "id": "o-vl3kxI4sKO"
      },
      "source": [
        "dt_train = dataset[dataset.block != 10]\n",
        "dt_test = dataset[dataset.block == 10]"
      ],
      "execution_count": 15,
      "outputs": []
    },
    {
      "cell_type": "code",
      "metadata": {
        "id": "XfY2_JlZiSfT"
      },
      "source": [
        "constants['DT_TRAIN'] = dt_train"
      ],
      "execution_count": 42,
      "outputs": []
    },
    {
      "cell_type": "markdown",
      "metadata": {
        "id": "bWseA8jolSyx"
      },
      "source": [
        "## Pré-processamento dos dados"
      ]
    },
    {
      "cell_type": "code",
      "metadata": {
        "colab": {
          "base_uri": "https://localhost:8080/"
        },
        "id": "iEHoN3tbnr0Q",
        "outputId": "3c8ac61d-513c-4b77-bce9-b32ab7cd891f"
      },
      "source": [
        "!pip install category_encoders"
      ],
      "execution_count": 17,
      "outputs": [
        {
          "output_type": "stream",
          "name": "stdout",
          "text": [
            "Collecting category_encoders\n",
            "  Downloading category_encoders-2.3.0-py2.py3-none-any.whl (82 kB)\n",
            "\u001b[?25l\r\u001b[K     |████                            | 10 kB 24.5 MB/s eta 0:00:01\r\u001b[K     |████████                        | 20 kB 31.9 MB/s eta 0:00:01\r\u001b[K     |████████████                    | 30 kB 15.7 MB/s eta 0:00:01\r\u001b[K     |████████████████                | 40 kB 11.8 MB/s eta 0:00:01\r\u001b[K     |████████████████████            | 51 kB 5.4 MB/s eta 0:00:01\r\u001b[K     |████████████████████████        | 61 kB 5.6 MB/s eta 0:00:01\r\u001b[K     |████████████████████████████    | 71 kB 5.3 MB/s eta 0:00:01\r\u001b[K     |███████████████████████████████▉| 81 kB 6.0 MB/s eta 0:00:01\r\u001b[K     |████████████████████████████████| 82 kB 373 kB/s \n",
            "\u001b[?25hRequirement already satisfied: statsmodels>=0.9.0 in /usr/local/lib/python3.7/dist-packages (from category_encoders) (0.10.2)\n",
            "Requirement already satisfied: patsy>=0.5.1 in /usr/local/lib/python3.7/dist-packages (from category_encoders) (0.5.2)\n",
            "Requirement already satisfied: numpy>=1.14.0 in /usr/local/lib/python3.7/dist-packages (from category_encoders) (1.19.5)\n",
            "Requirement already satisfied: scipy>=1.0.0 in /usr/local/lib/python3.7/dist-packages (from category_encoders) (1.4.1)\n",
            "Requirement already satisfied: pandas>=0.21.1 in /usr/local/lib/python3.7/dist-packages (from category_encoders) (1.1.5)\n",
            "Requirement already satisfied: scikit-learn>=0.20.0 in /usr/local/lib/python3.7/dist-packages (from category_encoders) (0.22.2.post1)\n",
            "Requirement already satisfied: pytz>=2017.2 in /usr/local/lib/python3.7/dist-packages (from pandas>=0.21.1->category_encoders) (2018.9)\n",
            "Requirement already satisfied: python-dateutil>=2.7.3 in /usr/local/lib/python3.7/dist-packages (from pandas>=0.21.1->category_encoders) (2.8.2)\n",
            "Requirement already satisfied: six in /usr/local/lib/python3.7/dist-packages (from patsy>=0.5.1->category_encoders) (1.15.0)\n",
            "Requirement already satisfied: joblib>=0.11 in /usr/local/lib/python3.7/dist-packages (from scikit-learn>=0.20.0->category_encoders) (1.0.1)\n",
            "Installing collected packages: category-encoders\n",
            "Successfully installed category-encoders-2.3.0\n"
          ]
        }
      ]
    },
    {
      "cell_type": "code",
      "metadata": {
        "id": "3UYLM24knZoV",
        "colab": {
          "base_uri": "https://localhost:8080/"
        },
        "outputId": "24085348-c1fa-43cf-ba2e-3dcdb30e9ce4"
      },
      "source": [
        "from category_encoders import CountEncoder\n",
        "from sklearn.preprocessing import LabelEncoder\n",
        "\n",
        "# classe com metodos estaticos para pre-processamento dos dados\n",
        "class DataProcessingUtils:\n",
        "\n",
        "  # aplica uma transformacao nas variaveis categoricas de acordo com a contagem de cada categoria\n",
        "  @staticmethod\n",
        "  def count_encoder(train, test):\n",
        "    train2 = train.copy()\n",
        "    test2 = test.copy()\n",
        "\n",
        "    for clm in constants['CATEGORICAL_COLUMNS']:\n",
        "      cenc = CountEncoder(normalize=False)\n",
        "\n",
        "      train2['COUNT_{}'.format(clm)] = cenc.fit_transform(train2[clm]) \n",
        "      train2.drop(clm, axis=1, inplace=True)\n",
        "\n",
        "      test2['COUNT_{}'.format(clm)] = cenc.transform(test2[clm]) \n",
        "      test2.drop(clm, axis=1, inplace=True)\n",
        "\n",
        "    return train2, test2\n",
        "\n",
        "  # remove as colunas especificadas do conjunto informado\n",
        "  @staticmethod\n",
        "  def drop_columns(dataset, dp_col):\n",
        "    clm = list(dataset.columns)\n",
        "\n",
        "    for c in dp_col:\n",
        "      if c in clm: \n",
        "        clm.remove(c)\n",
        "\n",
        "    return dataset.filter(items=clm)\n",
        "\n",
        "  # retorna um dicionario com os valores maximos das contagens de cada coluna categorica\n",
        "  @staticmethod\n",
        "  def create_dic_ctg(dataset):\n",
        "    dic_max_ctg = {\n",
        "      'DIST_VALUES_JOB': max(dataset.COUNT_job) + 1,\n",
        "      'DIST_VALUES_MARITAL': max(dataset.COUNT_marital) + 1,\n",
        "      'DIST_VALUES_EDUCATION': max(dataset.COUNT_education) + 1,\n",
        "      'DIST_VALUES_DEFAULT': max(dataset.COUNT_default) + 1,\n",
        "      'DIST_VALUES_HOUSING': max(dataset.COUNT_housing) + 1,\n",
        "      'DIST_VALUES_LOAN': max(dataset.COUNT_loan) + 1,\n",
        "      'DIST_VALUES_CONTACT': max(dataset.COUNT_contact) + 1,\n",
        "      'DIST_VALUES_MONTH': max(dataset.COUNT_month) + 1,\n",
        "      'DIST_VALUES_DAYOFWEEK': max(dataset.COUNT_day_of_week) + 1,\n",
        "      'DIST_VALUES_POUTCOME': max(dataset.COUNT_poutcome) + 1\n",
        "    }\n",
        "    return dic_max_ctg\n",
        "\n",
        "  # concatena um dataframe pandas com um array numpy\n",
        "  @staticmethod\n",
        "  def concat_df(X_df, X_np):\n",
        "    X_emb = X_np.tolist()\n",
        "    X_emb_df = pd.DataFrame(X_emb)\n",
        "    X_emb_df.reset_index(drop=True, inplace=True)\n",
        "\n",
        "    X_wth_ctg = X_df.iloc[:, :-10]\n",
        "    X_wth_ctg.reset_index(drop=True, inplace=True)\n",
        "    \n",
        "    return pd.concat([X_wth_ctg, X_emb_df], axis=1, ignore_index=False)\n",
        "\n",
        "  # converte arrays numpy em tensores\n",
        "  @staticmethod\n",
        "  def create_tensor(dt, is_target=False):\n",
        "    if is_target:\n",
        "      tensor = torch.from_numpy(dt.values.reshape(-1,1))\n",
        "      tensor = tensor.type(torch.FloatTensor)\n",
        "    \n",
        "    else:\n",
        "      tensor = torch.from_numpy(dt.filter(regex=r'COUNT').values)\n",
        "      tensor = tensor.long()\n",
        "\n",
        "    return tensor\n",
        "\n",
        "  # aplica a divisao do dataset informado em conjuntos de treino e validacao\n",
        "  @staticmethod\n",
        "  def train_val_split(dataset, block, dp_columns):\n",
        "    train = dataset[dataset['block'] < block]\n",
        "    val = dataset[dataset['block'] == block]\n",
        "\n",
        "    train, val = DataProcessingUtils.count_encoder(train, val)\n",
        "\n",
        "    le = LabelEncoder()\n",
        "    train['y'] = le.fit_transform(train['y'])\n",
        "    val['y'] = le.transform(val['y'])\n",
        "\n",
        "    X_train = DataProcessingUtils.drop_columns(train, dp_columns)\n",
        "    X_val = DataProcessingUtils.drop_columns(val, dp_columns)\n",
        "\n",
        "    y_train = train['y']\n",
        "    y_val = val['y']\n",
        "\n",
        "    return X_train, X_val, y_train, y_val"
      ],
      "execution_count": 18,
      "outputs": [
        {
          "output_type": "stream",
          "name": "stderr",
          "text": [
            "/usr/local/lib/python3.7/dist-packages/statsmodels/tools/_testing.py:19: FutureWarning: pandas.util.testing is deprecated. Use the functions in the public API at pandas.testing instead.\n",
            "  import pandas.util.testing as tm\n"
          ]
        }
      ]
    },
    {
      "cell_type": "markdown",
      "metadata": {
        "id": "j-FHQ8Sb8sJ5"
      },
      "source": [
        "## Embeddings supervisionados"
      ]
    },
    {
      "cell_type": "code",
      "metadata": {
        "id": "eq1SRbotIMrM"
      },
      "source": [
        "import torch.nn as nn\n",
        "import torch\n",
        "import torch.optim as opt\n",
        "import torch.nn.functional as F"
      ],
      "execution_count": 19,
      "outputs": []
    },
    {
      "cell_type": "code",
      "metadata": {
        "id": "h1lG3sr29BZ9"
      },
      "source": [
        "# tamanho de cada array das variaveis categoricas\n",
        "EMBEDDING_DIM = 5 \n",
        "\n",
        "# classe para criacao da estrutura do embedding\n",
        "class EmbeddingNet(nn.Module):\n",
        "  def __init__(self, dic_max_ctg):\n",
        "    super(EmbeddingNet, self).__init__()\n",
        "\n",
        "    # inicializacao dos valores maximos da contagem de cada coluna categorica\n",
        "    self.e_job = nn.Embedding(dic_max_ctg['DIST_VALUES_JOB'], EMBEDDING_DIM, padding_idx=0)\n",
        "    self.e_marital = nn.Embedding(dic_max_ctg['DIST_VALUES_MARITAL'], EMBEDDING_DIM, padding_idx=0)\n",
        "    self.e_education = nn.Embedding(dic_max_ctg['DIST_VALUES_EDUCATION'], EMBEDDING_DIM, padding_idx=0)\n",
        "    self.e_default = nn.Embedding(dic_max_ctg['DIST_VALUES_DEFAULT'], EMBEDDING_DIM, padding_idx=0)\n",
        "    self.e_housing = nn.Embedding(dic_max_ctg['DIST_VALUES_HOUSING'], EMBEDDING_DIM, padding_idx=0)\n",
        "    self.e_loan = nn.Embedding(dic_max_ctg['DIST_VALUES_LOAN'], EMBEDDING_DIM, padding_idx=0)\n",
        "    self.e_contact = nn.Embedding(dic_max_ctg['DIST_VALUES_CONTACT'], EMBEDDING_DIM, padding_idx=0)\n",
        "    self.e_month = nn.Embedding(dic_max_ctg['DIST_VALUES_MONTH'], EMBEDDING_DIM, padding_idx=0)\n",
        "    self.e_day_of_week = nn.Embedding(dic_max_ctg['DIST_VALUES_DAYOFWEEK'], EMBEDDING_DIM, padding_idx=0)\n",
        "    self.e_poutcome = nn.Embedding(dic_max_ctg['DIST_VALUES_POUTCOME'], EMBEDDING_DIM, padding_idx=0)\n",
        "\n",
        "    # definicao da estrutura da rede. Tera tres camadas ocultas\n",
        "    self.hid1 = nn.Linear(50, 100)\n",
        "    self.hid2 = nn.Linear(100, 100)\n",
        "    self.hid3 = nn.Linear(100, 100)\n",
        "    self.out = nn.Linear(100, 1)\n",
        "\n",
        "  def forward(self, x, return_embeddings=False, return_hid3=False):\n",
        "    # retorno das representacoes criadas\n",
        "    e_job = self.e_job(x[:,0])\n",
        "    e_marital = self.e_marital(x[:,1])\n",
        "    e_education = self.e_education(x[:,2])\n",
        "    e_default = self.e_default(x[:,3])\n",
        "    e_housing = self.e_housing(x[:,4])\n",
        "    e_loan = self.e_loan(x[:,5])\n",
        "    e_contact = self.e_contact(x[:,6])\n",
        "    e_month = self.e_month(x[:,7])\n",
        "    e_day_of_week = self.e_day_of_week(x[:,8])\n",
        "    e_poutcome = self.e_poutcome(x[:,9])\n",
        "\n",
        "    # concatenacao das representacoes\n",
        "    e = torch.cat([e_job, e_marital, e_education, e_default, e_housing, e_loan, e_contact, e_month, e_day_of_week, e_poutcome], dim=-1)\n",
        "    x = F.relu(self.hid1(e))\n",
        "    x = F.relu(self.hid2(x))\n",
        "    \n",
        "    hid3 = self.hid3(x)\n",
        "    x = F.relu(hid3)\n",
        "    x = self.out(x)\n",
        "    \n",
        "    if return_embeddings:\n",
        "        return e\n",
        "    elif return_hid3:\n",
        "        return hid3\n",
        "    return x"
      ],
      "execution_count": 20,
      "outputs": []
    },
    {
      "cell_type": "code",
      "metadata": {
        "id": "w_89zlJCVzQS"
      },
      "source": [
        "from sklearn.metrics import median_absolute_error\n",
        "\n",
        "class Embedding:\n",
        "\n",
        "  def __init__(self, X_dt, y_dt, num_epochs=1000):\n",
        "    self.X_dt = X_dt\n",
        "    self.y_dt = y_dt\n",
        "    self.num_epochs = num_epochs\n",
        "\n",
        "    dic_max_ctg = DataProcessingUtils.create_dic_ctg(self.X_dt)\n",
        "\n",
        "    self.net = EmbeddingNet(dic_max_ctg)\n",
        "\n",
        "\n",
        "  def training(self, seed=0):\n",
        "    if params['verbose']:\n",
        "      print('\\n*************************** Training Embedding ****************************')\n",
        "    \n",
        "    torch.manual_seed(seed)\n",
        "\n",
        "    criterion = nn.MSELoss()\n",
        "    optimizer = opt.Adam(self.net.parameters(), lr=1e-4)\n",
        "\n",
        "    x = DataProcessingUtils.create_tensor(self.X_dt)\n",
        "    y = DataProcessingUtils.create_tensor(self.y_dt, is_target=True)\n",
        "\n",
        "    for e in range(self.num_epochs):\n",
        "      optimizer.zero_grad() \n",
        "      p = self.net(x)\n",
        "      loss = criterion(p, y)\n",
        "      \n",
        "      loss.backward()\n",
        "      optimizer.step()\n",
        "      \n",
        "      p_numpy = p.cpu().detach().numpy()\n",
        "\n",
        "      if params['verbose'] and (e + 1) % (self.num_epochs / 10) == 0:\n",
        "        print(\"\\tEPOCH {}: {}\".format(e + 1, median_absolute_error(y, p_numpy)))\n",
        "\n",
        "    if params['verbose']:\n",
        "      print('*************************** Training Embedding ****************************\\n')\n",
        "\n",
        "  def save(self, path):\n",
        "    torch.save(self.net.state_dict(), path) \n",
        "\n",
        "  def get_net(self):\n",
        "    return self.net\n",
        "                "
      ],
      "execution_count": 21,
      "outputs": []
    },
    {
      "cell_type": "markdown",
      "metadata": {
        "id": "DLtnxc8KCHvG"
      },
      "source": [
        "## Técnica de validação prequential expanding"
      ]
    },
    {
      "cell_type": "code",
      "metadata": {
        "id": "jjcN4Ow59tBY"
      },
      "source": [
        "from scipy.stats import spearmanr\n",
        "\n",
        "# metodo de implementacao da tecnica de validacao prequential expanding.\n",
        "# Os dados de treino e validacao foram divididos em 10 blocos. Em cada interacao,\n",
        "# N blocos sao utilizados para treino e o ultimo para validacao, onde N incrementa em 1 apos cada ciclo\n",
        "def pe_validation(mdl):\n",
        "  if params['verbose']:\n",
        "    print('\\n********************** Prequential Expanding Validation ************************')\n",
        "\n",
        "  results_val = []\n",
        "  dp_columns = ['block', 'y']\n",
        "\n",
        "  for block in range(1, constants['NUM_BLOCKS_VALIDATION']):\n",
        "    if params['verbose']: \n",
        "      print(\"Train blocks 0-{} - Validation Block {}\".format(block - 1, block))\n",
        "\n",
        "    X_train, X_val, y_train, y_val = DataProcessingUtils.train_val_split(constants['DT_TRAIN'], block, dp_columns)\n",
        "\n",
        "    emb = Embedding(X_train, y_train, num_epochs=params['num_epochs'])\n",
        "    emb.training()\n",
        "    net = emb.get_net()\n",
        "\n",
        "    X_train_tensor = DataProcessingUtils.create_tensor(X_train)\n",
        "    X_train_emb = net(X_train_tensor,return_embeddings=True).detach().cpu().numpy()\n",
        "    X_train = DataProcessingUtils.concat_df(X_train, X_train_emb)\n",
        "\n",
        "    X_val_tensor = DataProcessingUtils.create_tensor(X_val)\n",
        "    X_val_emb = net(X_val_tensor,return_embeddings=True).detach().cpu().numpy()\n",
        "    X_val = DataProcessingUtils.concat_df(X_val, X_val_emb)\n",
        "\n",
        "    mdl.fit(X_train, y_train)\n",
        "    p = mdl.predict(X_val)\n",
        "    correlation = spearmanr(y_val, p).correlation\n",
        "    \n",
        "    results_val.append(correlation)\n",
        "    \n",
        "    if params['verbose']: \n",
        "      print(\"Correlation block {}: {}\\n\".format(block, correlation))\n",
        "      \n",
        "  if params['verbose']:\n",
        "    print('********************** Prequential Expanding Validation ************************\\n')\n",
        "  return np.median(results_val)\n",
        "    "
      ],
      "execution_count": 22,
      "outputs": []
    },
    {
      "cell_type": "markdown",
      "metadata": {
        "id": "j4IOAPgwqnF7"
      },
      "source": [
        "## Otimização Bayesiana - LightGBM"
      ]
    },
    {
      "cell_type": "code",
      "metadata": {
        "id": "2mqsw68Dv6Ue",
        "colab": {
          "base_uri": "https://localhost:8080/"
        },
        "outputId": "d637a290-ed7f-4706-ccae-77c85068dce5"
      },
      "source": [
        "!pip install scikit-optimize"
      ],
      "execution_count": 23,
      "outputs": [
        {
          "output_type": "stream",
          "name": "stdout",
          "text": [
            "Collecting scikit-optimize\n",
            "  Downloading scikit_optimize-0.9.0-py2.py3-none-any.whl (100 kB)\n",
            "\u001b[?25l\r\u001b[K     |███▎                            | 10 kB 26.1 MB/s eta 0:00:01\r\u001b[K     |██████▌                         | 20 kB 28.3 MB/s eta 0:00:01\r\u001b[K     |█████████▉                      | 30 kB 12.5 MB/s eta 0:00:01\r\u001b[K     |█████████████                   | 40 kB 9.5 MB/s eta 0:00:01\r\u001b[K     |████████████████▍               | 51 kB 5.2 MB/s eta 0:00:01\r\u001b[K     |███████████████████▋            | 61 kB 5.7 MB/s eta 0:00:01\r\u001b[K     |██████████████████████▉         | 71 kB 5.4 MB/s eta 0:00:01\r\u001b[K     |██████████████████████████▏     | 81 kB 6.1 MB/s eta 0:00:01\r\u001b[K     |█████████████████████████████▍  | 92 kB 4.6 MB/s eta 0:00:01\r\u001b[K     |████████████████████████████████| 100 kB 3.5 MB/s \n",
            "\u001b[?25hRequirement already satisfied: numpy>=1.13.3 in /usr/local/lib/python3.7/dist-packages (from scikit-optimize) (1.19.5)\n",
            "Requirement already satisfied: scipy>=0.19.1 in /usr/local/lib/python3.7/dist-packages (from scikit-optimize) (1.4.1)\n",
            "Requirement already satisfied: scikit-learn>=0.20.0 in /usr/local/lib/python3.7/dist-packages (from scikit-optimize) (0.22.2.post1)\n",
            "Collecting pyaml>=16.9\n",
            "  Downloading pyaml-21.10.1-py2.py3-none-any.whl (24 kB)\n",
            "Requirement already satisfied: joblib>=0.11 in /usr/local/lib/python3.7/dist-packages (from scikit-optimize) (1.0.1)\n",
            "Requirement already satisfied: PyYAML in /usr/local/lib/python3.7/dist-packages (from pyaml>=16.9->scikit-optimize) (3.13)\n",
            "Installing collected packages: pyaml, scikit-optimize\n",
            "Successfully installed pyaml-21.10.1 scikit-optimize-0.9.0\n"
          ]
        }
      ]
    },
    {
      "cell_type": "code",
      "metadata": {
        "id": "nOw5EW3-qsrY"
      },
      "source": [
        "from lightgbm import LGBMClassifier\n",
        "\n",
        "# metodo de otimizacao bayesiano\n",
        "def tune_lgbm(params):\n",
        "    min_data_in_leaf, num_leaves, learning_rate, colsample_bytree, n_estimators = params\n",
        "\n",
        "    mdl = LGBMClassifier(min_data_in_leaf=min_data_in_leaf,\n",
        "                        num_leaves=num_leaves, \n",
        "                        learning_rate=learning_rate, \n",
        "                        n_estimators=n_estimators, \n",
        "                        colsample_bytree=colsample_bytree, \n",
        "                        class_weight='balanced', \n",
        "                        random_state=0)\n",
        "    correlation = pe_validation(mdl)\n",
        "\n",
        "    print(\"\\nModel Result:\\n\\tParams: {}\\n\\tCorrelation: {}\\n\".format(str(params), str(correlation)))\n",
        "    \n",
        "    return -correlation"
      ],
      "execution_count": 24,
      "outputs": []
    },
    {
      "cell_type": "code",
      "metadata": {
        "id": "CbXlsahabemg"
      },
      "source": [
        "from skopt import gp_minimize\n",
        "res_mdl = gp_minimize(tune_lgbm, params['mdl_params'], random_state=params['seed'], verbose=params['verbose'], n_calls=params['n_calls_tuning'])"
      ],
      "execution_count": null,
      "outputs": []
    },
    {
      "cell_type": "code",
      "metadata": {
        "colab": {
          "base_uri": "https://localhost:8080/"
        },
        "id": "tr7EJV_oDCCC",
        "outputId": "7be784f9-5a0f-4350-e6d0-ac7cfe38e08a"
      },
      "source": [
        "print(\"Best params: {}\".format(res_mdl.x))"
      ],
      "execution_count": 46,
      "outputs": [
        {
          "output_type": "stream",
          "name": "stdout",
          "text": [
            "Best params: [148, 76, 0.01, 0.5452274810180205, 1000]\n"
          ]
        }
      ]
    },
    {
      "cell_type": "code",
      "metadata": {
        "id": "1BSZXRyD2OVt"
      },
      "source": [
        "min_data_in_leaf, num_leaves, learning_rate, colsample_bytree, n_estimators = res_mdl.x \n",
        "\n",
        "mdl = LGBMClassifier(min_data_in_leaf=min_data_in_leaf,\n",
        "                    num_leaves=num_leaves, \n",
        "                    learning_rate=learning_rate, \n",
        "                    n_estimators=n_estimators, \n",
        "                    colsample_bytree=colsample_bytree, \n",
        "                    class_weight='balanced', \n",
        "                    random_state=0)\n"
      ],
      "execution_count": 38,
      "outputs": []
    },
    {
      "cell_type": "markdown",
      "metadata": {
        "id": "13AhLMIgF72u"
      },
      "source": [
        "## Resultados no conjunto de teste"
      ]
    },
    {
      "cell_type": "code",
      "metadata": {
        "colab": {
          "base_uri": "https://localhost:8080/"
        },
        "id": "X2doqJerQSeh",
        "outputId": "0a8abba6-1fd8-4d8c-ff3b-c98169f2f6d1"
      },
      "source": [
        "dp_columns = ['block', 'y']\n",
        "\n",
        "train, test = DataProcessingUtils.count_encoder(dt_train, dt_test)\n",
        "\n",
        "le = LabelEncoder()\n",
        "train['y'] = le.fit_transform(train['y'])\n",
        "test['y'] = le.transform(test['y'])\n",
        "\n",
        "X_train = DataProcessingUtils.drop_columns(train, dp_columns)\n",
        "X_test = DataProcessingUtils.drop_columns(test, dp_columns)\n",
        "\n",
        "y_train = train['y']\n",
        "y_test = test['y']\n",
        "\n",
        "emb = Embedding(X_train, y_train, num_epochs=params['num_epochs'])  \n",
        "net = emb.get_net()\n",
        "emb.training()\n",
        "\n",
        "X_train_tensor = DataProcessingUtils.create_tensor(X_train)\n",
        "X_train_emb = net(X_train_tensor,return_embeddings=True).detach().cpu().numpy()\n",
        "X_train = DataProcessingUtils.concat_df(X_train, X_train_emb)\n",
        "\n",
        "X_test_tensor = DataProcessingUtils.create_tensor(X_test)\n",
        "X_test_emb = net(X_test_tensor,return_embeddings=True).detach().cpu().numpy()\n",
        "X_test = DataProcessingUtils.concat_df(X_test, X_test_emb)"
      ],
      "execution_count": 44,
      "outputs": [
        {
          "output_type": "stream",
          "name": "stdout",
          "text": [
            "\n",
            "*************************** Training Embedding ****************************\n",
            "\tEPOCH 50: 0.0541604608297348\n",
            "\tEPOCH 100: 0.054162271320819855\n",
            "\tEPOCH 150: 0.05187176913022995\n",
            "\tEPOCH 200: 0.049293190240859985\n",
            "\tEPOCH 250: 0.04916322976350784\n",
            "\tEPOCH 300: 0.04860936850309372\n",
            "\tEPOCH 350: 0.048137418925762177\n",
            "\tEPOCH 400: 0.04702456295490265\n",
            "\tEPOCH 450: 0.04571803659200668\n",
            "\tEPOCH 500: 0.04571089521050453\n",
            "*************************** Training Embedding ****************************\n",
            "\n"
          ]
        }
      ]
    },
    {
      "cell_type": "code",
      "metadata": {
        "colab": {
          "base_uri": "https://localhost:8080/"
        },
        "id": "l-YTZbvUg_5z",
        "outputId": "b45c081c-8829-4c94-854e-c7023071f16e"
      },
      "source": [
        "mdl.fit(X_train, y_train)"
      ],
      "execution_count": 45,
      "outputs": [
        {
          "output_type": "execute_result",
          "data": {
            "text/plain": [
              "LGBMClassifier(boosting_type='gbdt', class_weight='balanced',\n",
              "               colsample_bytree=0.9, importance_type='split',\n",
              "               learning_rate=0.01, max_depth=-1, min_child_samples=20,\n",
              "               min_child_weight=0.001, min_data_in_leaf=200, min_split_gain=0.0,\n",
              "               n_estimators=1000, n_jobs=-1, num_leaves=10, objective=None,\n",
              "               random_state=0, reg_alpha=0.0, reg_lambda=0.0, silent=True,\n",
              "               subsample=1.0, subsample_for_bin=200000, subsample_freq=0)"
            ]
          },
          "metadata": {},
          "execution_count": 45
        }
      ]
    },
    {
      "cell_type": "code",
      "metadata": {
        "id": "9wu4iAj02b_z"
      },
      "source": [
        "from sklearn.metrics import classification_report\n",
        "\n",
        "predictions = mdl.predict(X_test)\n",
        "metric = spearmanr(y_test,predictions).correlation\n",
        "print(\"Best Model\\n\\tParams: {}\\n\\tCorrelation: {}\\n\".format(res_mdl.x, metric)) \n",
        "print(classification_report(y_test, predictions))"
      ],
      "execution_count": null,
      "outputs": []
    }
  ]
}